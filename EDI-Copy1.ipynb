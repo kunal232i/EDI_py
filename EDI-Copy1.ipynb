{
 "cells": [
  {
   "cell_type": "code",
   "execution_count": null,
   "id": "fc030d2a",
   "metadata": {},
   "outputs": [],
   "source": [
    "import pandas as pd\n",
    "import numpy as np\n",
    "import matplotlib.pyplot as plt"
   ]
  },
  {
   "cell_type": "code",
   "execution_count": null,
   "id": "93f5ee4d",
   "metadata": {},
   "outputs": [],
   "source": [
    "df = pd.read_csv(\"test.csv\")\n"
   ]
  },
  {
   "cell_type": "code",
   "execution_count": null,
   "id": "805a735a",
   "metadata": {},
   "outputs": [],
   "source": [
    "df1 = pd.read_csv(\"dataset.csv\")"
   ]
  },
  {
   "cell_type": "code",
   "execution_count": null,
   "id": "1df97ddd",
   "metadata": {},
   "outputs": [],
   "source": [
    "import seaborn as sns\n",
    "import neattext.functions as nfx"
   ]
  },
  {
   "cell_type": "code",
   "execution_count": null,
   "id": "f4aefb09",
   "metadata": {},
   "outputs": [
    {
     "data": {
      "text/html": [
       "<div>\n",
       "<style scoped>\n",
       "    .dataframe tbody tr th:only-of-type {\n",
       "        vertical-align: middle;\n",
       "    }\n",
       "\n",
       "    .dataframe tbody tr th {\n",
       "        vertical-align: top;\n",
       "    }\n",
       "\n",
       "    .dataframe thead th {\n",
       "        text-align: right;\n",
       "    }\n",
       "</style>\n",
       "<table border=\"1\" class=\"dataframe\">\n",
       "  <thead>\n",
       "    <tr style=\"text-align: right;\">\n",
       "      <th></th>\n",
       "      <th>Emotion</th>\n",
       "      <th>Text</th>\n",
       "    </tr>\n",
       "  </thead>\n",
       "  <tbody>\n",
       "    <tr>\n",
       "      <th>0</th>\n",
       "      <td>neutral</td>\n",
       "      <td>Why ?</td>\n",
       "    </tr>\n",
       "    <tr>\n",
       "      <th>1</th>\n",
       "      <td>joy</td>\n",
       "      <td>Sage Act upgrade on my to do list for tommorow.</td>\n",
       "    </tr>\n",
       "    <tr>\n",
       "      <th>2</th>\n",
       "      <td>sadness</td>\n",
       "      <td>ON THE WAY TO MY HOMEGIRL BABY FUNERAL!!! MAN ...</td>\n",
       "    </tr>\n",
       "    <tr>\n",
       "      <th>3</th>\n",
       "      <td>joy</td>\n",
       "      <td>Such an eye ! The true hazel eye-and so brill...</td>\n",
       "    </tr>\n",
       "    <tr>\n",
       "      <th>4</th>\n",
       "      <td>joy</td>\n",
       "      <td>@Iluvmiasantos ugh babe.. hugggzzz for u .!  b...</td>\n",
       "    </tr>\n",
       "  </tbody>\n",
       "</table>\n",
       "</div>"
      ],
      "text/plain": [
       "   Emotion                                               Text\n",
       "0  neutral                                             Why ? \n",
       "1      joy    Sage Act upgrade on my to do list for tommorow.\n",
       "2  sadness  ON THE WAY TO MY HOMEGIRL BABY FUNERAL!!! MAN ...\n",
       "3      joy   Such an eye ! The true hazel eye-and so brill...\n",
       "4      joy  @Iluvmiasantos ugh babe.. hugggzzz for u .!  b..."
      ]
     },
     "execution_count": 6,
     "metadata": {},
     "output_type": "execute_result"
    }
   ],
   "source": [
    "df1.head()"
   ]
  },
  {
   "cell_type": "code",
   "execution_count": null,
   "id": "5b470fcc",
   "metadata": {},
   "outputs": [
    {
     "data": {
      "text/plain": [
       "Emotion    object\n",
       "Text       object\n",
       "dtype: object"
      ]
     },
     "execution_count": 21,
     "metadata": {},
     "output_type": "execute_result"
    }
   ],
   "source": [
    "df1.shape\n",
    "df1.dtypes"
   ]
  },
  {
   "cell_type": "code",
   "execution_count": null,
   "id": "d3fde46e",
   "metadata": {},
   "outputs": [
    {
     "data": {
      "text/plain": [
       "Emotion    0\n",
       "Text       0\n",
       "dtype: int64"
      ]
     },
     "execution_count": 22,
     "metadata": {},
     "output_type": "execute_result"
    }
   ],
   "source": [
    "df1.isnull().sum()"
   ]
  },
  {
   "cell_type": "code",
   "execution_count": null,
   "id": "33135f4b",
   "metadata": {},
   "outputs": [
    {
     "data": {
      "text/plain": [
       "joy         11045\n",
       "sadness      6722\n",
       "fear         5410\n",
       "anger        4297\n",
       "surprise     4062\n",
       "neutral      2254\n",
       "disgust       856\n",
       "shame         146\n",
       "Name: Emotion, dtype: int64"
      ]
     },
     "execution_count": 8,
     "metadata": {},
     "output_type": "execute_result"
    }
   ],
   "source": [
    "df1['Emotion'].value_counts()"
   ]
  },
  {
   "cell_type": "code",
   "execution_count": null,
   "id": "2f8c2495",
   "metadata": {},
   "outputs": [
    {
     "data": {
      "text/plain": [
       "<AxesSubplot:>"
      ]
     },
     "execution_count": 24,
     "metadata": {},
     "output_type": "execute_result"
    },
    {
     "data": {
      "image/png": "[encoded data removed]",
      "text/plain": [
       "<Figure size 432x288 with 1 Axes>"
      ]
     },
     "metadata": {
      "needs_background": "light"
     },
     "output_type": "display_data"
    }
   ],
   "source": [
    "df1['Emotion'].value_counts().plot(kind='bar')"
   ]
  },
  {
   "cell_type": "code",
   "execution_count": null,
   "id": "75dcf83c",
   "metadata": {},
   "outputs": [
    {
     "data": {
      "text/plain": [
       "<AxesSubplot:xlabel='Emotion', ylabel='count'>"
      ]
     },
     "execution_count": 10,
     "metadata": {},
     "output_type": "execute_result"
    },
    {
     "data": {
      "image/png": "[encoded data removed]",
      "text/plain": [
       "<Figure size 432x288 with 1 Axes>"
      ]
     },
     "metadata": {
      "needs_background": "light"
     },
     "output_type": "display_data"
    }
   ],
   "source": [
    "sns.countplot(x='Emotion', data=df1)"
   ]
  },
  {
   "cell_type": "code",
   "execution_count": null,
   "id": "22058378",
   "metadata": {},
   "outputs": [],
   "source": [
    "from textblob import TextBlob"
   ]
  },
  {
   "cell_type": "code",
   "execution_count": null,
   "id": "d6510724",
   "metadata": {},
   "outputs": [],
   "source": [
    "def get_sentiment(text):\n",
    "    blob = TextBlob(text)\n",
    "    sentiment = blob.sentiment.polarity\n",
    "    if sentiment > 0 :\n",
    "        result = \"Positive\"\n",
    "    elif sentiment < 0:\n",
    "        result = \"Negative\"\n",
    "    else :\n",
    "        result = \"Neutral\"\n",
    "    return result"
   ]
  },
  {
   "cell_type": "code",
   "execution_count": null,
   "id": "865cf7c4",
   "metadata": {},
   "outputs": [
    {
     "data": {
      "text/plain": [
       "'Positive'"
      ]
     },
     "execution_count": 34,
     "metadata": {},
     "output_type": "execute_result"
    }
   ],
   "source": [
    "get_sentiment('you are not that great')"
   ]
  },
  {
   "cell_type": "code",
   "execution_count": null,
   "id": "c2e424b7",
   "metadata": {},
   "outputs": [],
   "source": [
    "df1['Sentiment'] = df1['Text'].apply(get_sentiment)"
   ]
  },
  {
   "cell_type": "code",
   "execution_count": null,
   "id": "63412372",
   "metadata": {},
   "outputs": [
    {
     "data": {
      "text/html": [
       "<div>\n",
       "<style scoped>\n",
       "    .dataframe tbody tr th:only-of-type {\n",
       "        vertical-align: middle;\n",
       "    }\n",
       "\n",
       "    .dataframe tbody tr th {\n",
       "        vertical-align: top;\n",
       "    }\n",
       "\n",
       "    .dataframe thead th {\n",
       "        text-align: right;\n",
       "    }\n",
       "</style>\n",
       "<table border=\"1\" class=\"dataframe\">\n",
       "  <thead>\n",
       "    <tr style=\"text-align: right;\">\n",
       "      <th></th>\n",
       "      <th>Emotion</th>\n",
       "      <th>Text</th>\n",
       "      <th>Sentiment</th>\n",
       "    </tr>\n",
       "  </thead>\n",
       "  <tbody>\n",
       "    <tr>\n",
       "      <th>0</th>\n",
       "      <td>neutral</td>\n",
       "      <td>Why ?</td>\n",
       "      <td>Neutral</td>\n",
       "    </tr>\n",
       "    <tr>\n",
       "      <th>1</th>\n",
       "      <td>joy</td>\n",
       "      <td>Sage Act upgrade on my to do list for tommorow.</td>\n",
       "      <td>Neutral</td>\n",
       "    </tr>\n",
       "    <tr>\n",
       "      <th>2</th>\n",
       "      <td>sadness</td>\n",
       "      <td>ON THE WAY TO MY HOMEGIRL BABY FUNERAL!!! MAN ...</td>\n",
       "      <td>Negative</td>\n",
       "    </tr>\n",
       "    <tr>\n",
       "      <th>3</th>\n",
       "      <td>joy</td>\n",
       "      <td>Such an eye ! The true hazel eye-and so brill...</td>\n",
       "      <td>Positive</td>\n",
       "    </tr>\n",
       "    <tr>\n",
       "      <th>4</th>\n",
       "      <td>joy</td>\n",
       "      <td>@Iluvmiasantos ugh babe.. hugggzzz for u .!  b...</td>\n",
       "      <td>Neutral</td>\n",
       "    </tr>\n",
       "    <tr>\n",
       "      <th>5</th>\n",
       "      <td>fear</td>\n",
       "      <td>I'm expecting an extremely important phonecall...</td>\n",
       "      <td>Positive</td>\n",
       "    </tr>\n",
       "    <tr>\n",
       "      <th>6</th>\n",
       "      <td>sadness</td>\n",
       "      <td>.Couldnt wait to see them live. If missing th...</td>\n",
       "      <td>Negative</td>\n",
       "    </tr>\n",
       "    <tr>\n",
       "      <th>7</th>\n",
       "      <td>surprise</td>\n",
       "      <td>maken Tip 2: Stop op een moment dat je het hel...</td>\n",
       "      <td>Neutral</td>\n",
       "    </tr>\n",
       "    <tr>\n",
       "      <th>8</th>\n",
       "      <td>surprise</td>\n",
       "      <td>En dan krijg je ff een cadeautje van een tweep...</td>\n",
       "      <td>Neutral</td>\n",
       "    </tr>\n",
       "    <tr>\n",
       "      <th>9</th>\n",
       "      <td>surprise</td>\n",
       "      <td>@1116am Drummer Boy bij op verzoek van @BiemO...</td>\n",
       "      <td>Neutral</td>\n",
       "    </tr>\n",
       "    <tr>\n",
       "      <th>10</th>\n",
       "      <td>anger</td>\n",
       "      <td>The bull tossed the effigy out of their hands ...</td>\n",
       "      <td>Positive</td>\n",
       "    </tr>\n",
       "    <tr>\n",
       "      <th>11</th>\n",
       "      <td>sadness</td>\n",
       "      <td>People hide their behind a #fake smile.</td>\n",
       "      <td>Negative</td>\n",
       "    </tr>\n",
       "    <tr>\n",
       "      <th>12</th>\n",
       "      <td>joy</td>\n",
       "      <td>For once in his life , Leopold must have been ...</td>\n",
       "      <td>Positive</td>\n",
       "    </tr>\n",
       "    <tr>\n",
       "      <th>13</th>\n",
       "      <td>fear</td>\n",
       "      <td>Against the assault of laughter nothing can st...</td>\n",
       "      <td>Neutral</td>\n",
       "    </tr>\n",
       "    <tr>\n",
       "      <th>14</th>\n",
       "      <td>anger</td>\n",
       "      <td>With everything , with everybody , with all t...</td>\n",
       "      <td>Neutral</td>\n",
       "    </tr>\n",
       "    <tr>\n",
       "      <th>15</th>\n",
       "      <td>sadness</td>\n",
       "      <td>Shakuhachi dress $580,  10-22 mm lens $708 #pa...</td>\n",
       "      <td>Negative</td>\n",
       "    </tr>\n",
       "    <tr>\n",
       "      <th>16</th>\n",
       "      <td>surprise</td>\n",
       "      <td>Haha of course I come home to a different hous...</td>\n",
       "      <td>Positive</td>\n",
       "    </tr>\n",
       "    <tr>\n",
       "      <th>17</th>\n",
       "      <td>joy</td>\n",
       "      <td>I have a feeling i will fail french #fuckfrench</td>\n",
       "      <td>Negative</td>\n",
       "    </tr>\n",
       "    <tr>\n",
       "      <th>18</th>\n",
       "      <td>joy</td>\n",
       "      <td>Good.Let ' s go now .</td>\n",
       "      <td>Neutral</td>\n",
       "    </tr>\n",
       "    <tr>\n",
       "      <th>19</th>\n",
       "      <td>surprise</td>\n",
       "      <td>@JuliaLeader I reeeeeellllyyyyyyy need to tell...</td>\n",
       "      <td>Negative</td>\n",
       "    </tr>\n",
       "  </tbody>\n",
       "</table>\n",
       "</div>"
      ],
      "text/plain": [
       "     Emotion                                               Text Sentiment\n",
       "0    neutral                                             Why ?    Neutral\n",
       "1        joy    Sage Act upgrade on my to do list for tommorow.   Neutral\n",
       "2    sadness  ON THE WAY TO MY HOMEGIRL BABY FUNERAL!!! MAN ...  Negative\n",
       "3        joy   Such an eye ! The true hazel eye-and so brill...  Positive\n",
       "4        joy  @Iluvmiasantos ugh babe.. hugggzzz for u .!  b...   Neutral\n",
       "5       fear  I'm expecting an extremely important phonecall...  Positive\n",
       "6    sadness   .Couldnt wait to see them live. If missing th...  Negative\n",
       "7   surprise  maken Tip 2: Stop op een moment dat je het hel...   Neutral\n",
       "8   surprise  En dan krijg je ff een cadeautje van een tweep...   Neutral\n",
       "9   surprise   @1116am Drummer Boy bij op verzoek van @BiemO...   Neutral\n",
       "10     anger  The bull tossed the effigy out of their hands ...  Positive\n",
       "11   sadness            People hide their behind a #fake smile.  Negative\n",
       "12       joy  For once in his life , Leopold must have been ...  Positive\n",
       "13      fear  Against the assault of laughter nothing can st...   Neutral\n",
       "14     anger   With everything , with everybody , with all t...   Neutral\n",
       "15   sadness  Shakuhachi dress $580,  10-22 mm lens $708 #pa...  Negative\n",
       "16  surprise  Haha of course I come home to a different hous...  Positive\n",
       "17       joy    I have a feeling i will fail french #fuckfrench  Negative\n",
       "18       joy                             Good.Let ' s go now .    Neutral\n",
       "19  surprise  @JuliaLeader I reeeeeellllyyyyyyy need to tell...  Negative"
      ]
     },
     "execution_count": 37,
     "metadata": {},
     "output_type": "execute_result"
    }
   ],
   "source": [
    "df1.head(20) "
   ]
  },
  {
   "cell_type": "code",
   "execution_count": null,
   "id": "eb606aba",
   "metadata": {},
   "outputs": [
    {
     "data": {
      "text/plain": [
       "<AxesSubplot:xlabel='Emotion,Sentiment'>"
      ]
     },
     "execution_count": 38,
     "metadata": {},
     "output_type": "execute_result"
    },
    {
     "data": {
      "image/png": "[encoded data removed]",
      "text/plain": [
       "<Figure size 432x288 with 1 Axes>"
      ]
     },
     "metadata": {
      "needs_background": "light"
     },
     "output_type": "display_data"
    }
   ],
   "source": [
    "df1.groupby(['Emotion','Sentiment']).size().plot(kind='bar')"
   ]
  },
  {
   "cell_type": "code",
   "execution_count": null,
   "id": "f6b4d485",
   "metadata": {},
   "outputs": [
    {
     "data": {
      "image/png": "[encoded data removed]",
      "text/plain": [
       "<Figure size 1440x720 with 1 Axes>"
      ]
     },
     "metadata": {
      "needs_background": "light"
     },
     "output_type": "display_data"
    }
   ],
   "source": [
    "# plt.figure(figsize=(20,10))\n",
    "# sns.countplot(x='Emotion',data=df1)\n",
    "# plt.show()"
   ]
  },
  {
   "cell_type": "code",
   "execution_count": null,
   "id": "5c377fec",
   "metadata": {},
   "outputs": [
    {
     "name": "stderr",
     "output_type": "stream",
     "text": [
      "C:\\Users\\HP\\anaconda3\\lib\\site-packages\\seaborn\\categorical.py:3717: UserWarning: The `factorplot` function has been renamed to `catplot`. The original name will be removed in a future release. Please update your code. Note that the default `kind` in `factorplot` (`'point'`) has changed `'strip'` in `catplot`.\n",
      "  warnings.warn(msg)\n",
      "C:\\Users\\HP\\anaconda3\\lib\\site-packages\\seaborn\\categorical.py:3723: UserWarning: The `size` parameter has been renamed to `height`; please update your code.\n",
      "  warnings.warn(msg, UserWarning)\n"
     ]
    },
    {
     "data": {
      "text/plain": [
       "<seaborn.axisgrid.FacetGrid at 0x112d0b47eb0>"
      ]
     },
     "execution_count": 39,
     "metadata": {},
     "output_type": "execute_result"
    },
    {
     "data": {
      "image/png": "[encoded data removed]",
      "text/plain": [
       "<Figure size 728.875x432 with 1 Axes>"
      ]
     },
     "metadata": {
      "needs_background": "light"
     },
     "output_type": "display_data"
    }
   ],
   "source": [
    "sns.factorplot(x='Emotion', hue='Sentiment',data=df1 , kind='count',size=6,aspect =1.5)\n"
   ]
  },
  {
   "cell_type": "code",
   "execution_count": null,
   "id": "6363ec85",
   "metadata": {},
   "outputs": [
    {
     "data": {
      "text/plain": [
       "<seaborn.axisgrid.FacetGrid at 0x112cfce2970>"
      ]
     },
     "execution_count": 40,
     "metadata": {},
     "output_type": "execute_result"
    },
    {
     "data": {
      "image/png": "[encoded data removed]",
      "text/plain": [
       "<Figure size 620.875x360 with 1 Axes>"
      ]
     },
     "metadata": {
      "needs_background": "light"
     },
     "output_type": "display_data"
    }
   ],
   "source": [
    "sns.catplot(x='Emotion', hue='Sentiment',data=df1 , kind='count',aspect =1.5)\n"
   ]
  },
  {
   "cell_type": "code",
   "execution_count": null,
   "id": "f5669448",
   "metadata": {},
   "outputs": [],
   "source": [
    "df1['Clened_text'] = df1['Text'].apply(nfx.remove_stopwords)"
   ]
  },
  {
   "cell_type": "code",
   "execution_count": null,
   "id": "2d145449",
   "metadata": {},
   "outputs": [],
   "source": [
    "df1['Clened_text'] = df1['Clened_text'].apply(nfx.remove_punctuations)"
   ]
  },
  {
   "cell_type": "code",
   "execution_count": null,
   "id": "5b146aa2",
   "metadata": {},
   "outputs": [],
   "source": [
    "df1['Clened_text'] = df1['Clened_text'].apply(nfx.remove_userhandles)"
   ]
  },
  {
   "cell_type": "code",
   "execution_count": null,
   "id": "3b0aa494",
   "metadata": {},
   "outputs": [
    {
     "data": {
      "text/html": [
       "<div>\n",
       "<style scoped>\n",
       "    .dataframe tbody tr th:only-of-type {\n",
       "        vertical-align: middle;\n",
       "    }\n",
       "\n",
       "    .dataframe tbody tr th {\n",
       "        vertical-align: top;\n",
       "    }\n",
       "\n",
       "    .dataframe thead th {\n",
       "        text-align: right;\n",
       "    }\n",
       "</style>\n",
       "<table border=\"1\" class=\"dataframe\">\n",
       "  <thead>\n",
       "    <tr style=\"text-align: right;\">\n",
       "      <th></th>\n",
       "      <th>Text</th>\n",
       "      <th>Clened_text</th>\n",
       "    </tr>\n",
       "  </thead>\n",
       "  <tbody>\n",
       "    <tr>\n",
       "      <th>0</th>\n",
       "      <td>Why ?</td>\n",
       "      <td></td>\n",
       "    </tr>\n",
       "    <tr>\n",
       "      <th>1</th>\n",
       "      <td>Sage Act upgrade on my to do list for tommorow.</td>\n",
       "      <td>Sage Act upgrade list tommorow</td>\n",
       "    </tr>\n",
       "    <tr>\n",
       "      <th>2</th>\n",
       "      <td>ON THE WAY TO MY HOMEGIRL BABY FUNERAL!!! MAN ...</td>\n",
       "      <td>WAY HOMEGIRL BABY FUNERAL MAN HATE FUNERALS SH...</td>\n",
       "    </tr>\n",
       "    <tr>\n",
       "      <th>3</th>\n",
       "      <td>Such an eye ! The true hazel eye-and so brill...</td>\n",
       "      <td>eye  true hazel eyeand brilliant  Regular feat...</td>\n",
       "    </tr>\n",
       "    <tr>\n",
       "      <th>4</th>\n",
       "      <td>@Iluvmiasantos ugh babe.. hugggzzz for u .!  b...</td>\n",
       "      <td>ugh babe hugggzzz u  babe naamazed nga ako e...</td>\n",
       "    </tr>\n",
       "    <tr>\n",
       "      <th>...</th>\n",
       "      <td>...</td>\n",
       "      <td>...</td>\n",
       "    </tr>\n",
       "    <tr>\n",
       "      <th>34787</th>\n",
       "      <td>@MichelGW have you gift! Hope you like it! It'...</td>\n",
       "      <td>gift Hope like it hand wear  Itll warm Lol</td>\n",
       "    </tr>\n",
       "    <tr>\n",
       "      <th>34788</th>\n",
       "      <td>The world didnt give it to me..so the world MO...</td>\n",
       "      <td>world didnt meso world DEFINITELY cnt away</td>\n",
       "    </tr>\n",
       "    <tr>\n",
       "      <th>34789</th>\n",
       "      <td>A man robbed me today .</td>\n",
       "      <td>man robbed today</td>\n",
       "    </tr>\n",
       "    <tr>\n",
       "      <th>34790</th>\n",
       "      <td>Youu call it JEALOUSY, I call it of #Losing YO...</td>\n",
       "      <td>Youu JEALOUSY #Losing YOU</td>\n",
       "    </tr>\n",
       "    <tr>\n",
       "      <th>34791</th>\n",
       "      <td>I think about you baby, and I dream about you ...</td>\n",
       "      <td>think baby dream time</td>\n",
       "    </tr>\n",
       "  </tbody>\n",
       "</table>\n",
       "<p>34792 rows × 2 columns</p>\n",
       "</div>"
      ],
      "text/plain": [
       "                                                    Text  \\\n",
       "0                                                 Why ?    \n",
       "1        Sage Act upgrade on my to do list for tommorow.   \n",
       "2      ON THE WAY TO MY HOMEGIRL BABY FUNERAL!!! MAN ...   \n",
       "3       Such an eye ! The true hazel eye-and so brill...   \n",
       "4      @Iluvmiasantos ugh babe.. hugggzzz for u .!  b...   \n",
       "...                                                  ...   \n",
       "34787  @MichelGW have you gift! Hope you like it! It'...   \n",
       "34788  The world didnt give it to me..so the world MO...   \n",
       "34789                           A man robbed me today .    \n",
       "34790  Youu call it JEALOUSY, I call it of #Losing YO...   \n",
       "34791  I think about you baby, and I dream about you ...   \n",
       "\n",
       "                                             Clened_text  \n",
       "0                                                         \n",
       "1                         Sage Act upgrade list tommorow  \n",
       "2      WAY HOMEGIRL BABY FUNERAL MAN HATE FUNERALS SH...  \n",
       "3      eye  true hazel eyeand brilliant  Regular feat...  \n",
       "4        ugh babe hugggzzz u  babe naamazed nga ako e...  \n",
       "...                                                  ...  \n",
       "34787         gift Hope like it hand wear  Itll warm Lol  \n",
       "34788         world didnt meso world DEFINITELY cnt away  \n",
       "34789                                  man robbed today   \n",
       "34790                          Youu JEALOUSY #Losing YOU  \n",
       "34791                              think baby dream time  \n",
       "\n",
       "[34792 rows x 2 columns]"
      ]
     },
     "execution_count": 45,
     "metadata": {},
     "output_type": "execute_result"
    }
   ],
   "source": [
    "df1[['Text','Clened_text']]"
   ]
  },
  {
   "cell_type": "code",
   "execution_count": null,
   "id": "7d881acf",
   "metadata": {},
   "outputs": [],
   "source": [
    "from collections import Counter"
   ]
  },
  {
   "cell_type": "code",
   "execution_count": null,
   "id": "0c7290d2",
   "metadata": {},
   "outputs": [],
   "source": [
    "def extract_keywords(text,num=50):\n",
    "    tokens = [ tok for tok in text.split()]\n",
    "    most_common_tokens = Counter(tokens).most_common(num)\n",
    "    return dict(most_common_tokens)"
   ]
  },
  {
   "cell_type": "code",
   "execution_count": null,
   "id": "17e7e17f",
   "metadata": {},
   "outputs": [],
   "source": [
    "emotion_list  = df1['Emotion'].unique().tolist()"
   ]
  },
  {
   "cell_type": "code",
   "execution_count": null,
   "id": "22df649a",
   "metadata": {},
   "outputs": [
    {
     "data": {
      "text/plain": [
       "['neutral', 'joy', 'sadness', 'fear', 'surprise', 'anger', 'shame', 'disgust']"
      ]
     },
     "execution_count": 52,
     "metadata": {},
     "output_type": "execute_result"
    }
   ],
   "source": [
    "emotion_list"
   ]
  },
  {
   "cell_type": "code",
   "execution_count": null,
   "id": "fd66b8db",
   "metadata": {},
   "outputs": [],
   "source": [
    "joy_list= df1[df1['Emotion'] == 'fear']['Clened_text'].tolist()"
   ]
  },
  {
   "cell_type": "code",
   "execution_count": null,
   "id": "7ab7c741",
   "metadata": {},
   "outputs": [],
   "source": [
    "joy_docx = ' '.join(joy_list)"
   ]
  },
  {
   "cell_type": "code",
   "execution_count": null,
   "id": "5a160f78",
   "metadata": {},
   "outputs": [],
   "source": [
    "keyword_joy = extract_keywords(joy_docx)"
   ]
  },
  {
   "cell_type": "code",
   "execution_count": null,
   "id": "b2883021",
   "metadata": {},
   "outputs": [
    {
     "data": {
      "text/plain": [
       "{'afraid': 565,\n",
       " 'love': 432,\n",
       " 'today': 404,\n",
       " 'tomorrow': 399,\n",
       " 'fear': 396,\n",
       " 'seen': 364,\n",
       " 'yesterday': 352,\n",
       " 'time': 256,\n",
       " 'Im': 244,\n",
       " 'night': 238,\n",
       " 'me': 225,\n",
       " 'scared': 178,\n",
       " 'like': 174,\n",
       " 'amp': 174,\n",
       " 'know': 172,\n",
       " 'home': 159,\n",
       " '“': 155,\n",
       " 'people': 153,\n",
       " 'day': 142,\n",
       " 's': 138,\n",
       " 'going': 138,\n",
       " 'frightened': 131,\n",
       " '#less”': 129,\n",
       " 'felt': 129,\n",
       " 'horror': 126,\n",
       " 'car': 124,\n",
       " 'life': 123,\n",
       " 'way': 121,\n",
       " 'think': 113,\n",
       " 'de': 111,\n",
       " 'it': 110,\n",
       " 'u': 107,\n",
       " '#less': 105,\n",
       " 'nervous': 104,\n",
       " 'quot': 103,\n",
       " '2': 103,\n",
       " 'dismay': 102,\n",
       " 'got': 102,\n",
       " 'feel': 101,\n",
       " 'saw': 95,\n",
       " 'house': 95,\n",
       " 'man': 92,\n",
       " 'face': 90,\n",
       " 'anxious': 89,\n",
       " '#lessquot': 87,\n",
       " 'let': 84,\n",
       " 'friend': 83,\n",
       " 'look': 83,\n",
       " 'concerned': 83,\n",
       " 'RT': 83}"
      ]
     },
     "execution_count": 56,
     "metadata": {},
     "output_type": "execute_result"
    }
   ],
   "source": [
    "keyword_joy"
   ]
  },
  {
   "cell_type": "code",
   "execution_count": null,
   "id": "bb0135c2",
   "metadata": {},
   "outputs": [],
   "source": [
    "def plot_most_common_word(mydict,emotion_name):\n",
    "    df_01 = pd.DataFrame(mydict.items(),columns=['token','count'])\n",
    "    plt.figure(figsize = (20,10))\n",
    "    plt.title(\"plot of {}\".format(emotion_name))\n",
    "    sns.barplot(x='token',y='count',data=df_01)\n",
    "    plt.xticks(rotation = 45)\n",
    "    plt.show()"
   ]
  },
  {
   "cell_type": "code",
   "execution_count": null,
   "id": "22abd2a8",
   "metadata": {},
   "outputs": [
    {
     "data": {
      "image/png": "[encoded data removed]",
      "text/plain": [
       "<Figure size 1440x720 with 1 Axes>"
      ]
     },
     "metadata": {
      "needs_background": "light"
     },
     "output_type": "display_data"
    }
   ],
   "source": [
    "plot_most_common_word(keyword_joy,\"JOY\")"
   ]
  },
  {
   "cell_type": "code",
   "execution_count": null,
   "id": "bfc57678",
   "metadata": {},
   "outputs": [],
   "source": [
    "surprise_list = df1[df1['Emotion'] == 'shame']['Clened_text'].tolist()\n",
    "\n",
    "surprise_docx =' '.join(surprise_list)\n",
    "keyword_surprise = extract_keywords(surprise_docx)"
   ]
  },
  {
   "cell_type": "code",
   "execution_count": null,
   "id": "44ad72dc",
   "metadata": {},
   "outputs": [
    {
     "data": {
      "image/png": "[encoded data removed]",
      "text/plain": [
       "<Figure size 1440x720 with 1 Axes>"
      ]
     },
     "metadata": {
      "needs_background": "light"
     },
     "output_type": "display_data"
    }
   ],
   "source": [
    "plot_most_common_word(keyword_surprise,\"Surprise\")"
   ]
  },
  {
   "cell_type": "code",
   "execution_count": null,
   "id": "0da50d69",
   "metadata": {},
   "outputs": [],
   "source": []
  },
  {
   "cell_type": "code",
   "execution_count": null,
   "id": "61f0a2bc",
   "metadata": {},
   "outputs": [],
   "source": [
    "#form wordcloud install WordCloud"
   ]
  },
  {
   "cell_type": "code",
   "execution_count": null,
   "id": "f915a0a3",
   "metadata": {},
   "outputs": [],
   "source": [
    "def plot_wordcloud(docx):\n",
    "    mywordcloud = WordCloud().generate(docx)\n",
    "    plt.figure(figSize=(20,10))\n",
    "    plt.inshow(mywordcloud,interpolation = 'biliner')\n",
    "    plt.axis('off')\n",
    "    plt.show()"
   ]
  },
  {
   "cell_type": "code",
   "execution_count": null,
   "id": "9f016581",
   "metadata": {},
   "outputs": [],
   "source": [
    "from sklearn.linear_model import LogisticRegression\n",
    "from sklearn.naive_bayes import MultinomialNB\n",
    "from sklearn.feature_extraction.text import CountVectorizer,TfidfVectorizer\n",
    "from sklearn.metrics import accuracy_score, classification_report,plot_confusion_matrix"
   ]
  },
  {
   "cell_type": "code",
   "execution_count": null,
   "id": "31a6be0a",
   "metadata": {},
   "outputs": [],
   "source": [
    "from sklearn.model_selection import train_test_split"
   ]
  },
  {
   "cell_type": "code",
   "execution_count": null,
   "id": "10b99e1e",
   "metadata": {},
   "outputs": [],
   "source": [
    "Xfeatures = df1['Clened_text']\n",
    "ylabels = df1['Emotion']"
   ]
  },
  {
   "cell_type": "code",
   "execution_count": null,
   "id": "8601ff59",
   "metadata": {},
   "outputs": [
    {
     "data": {
      "text/plain": [
       "0                                                         \n",
       "1                           Sage Act upgrade list tommorow\n",
       "2        WAY HOMEGIRL BABY FUNERAL MAN HATE FUNERALS SH...\n",
       "3        eye  true hazel eyeand brilliant  Regular feat...\n",
       "4          ugh babe hugggzzz u  babe naamazed nga ako e...\n",
       "                               ...                        \n",
       "34787           gift Hope like it hand wear  Itll warm Lol\n",
       "34788           world didnt meso world DEFINITELY cnt away\n",
       "34789                                    man robbed today \n",
       "34790                            Youu JEALOUSY #Losing YOU\n",
       "34791                                think baby dream time\n",
       "Name: Clened_text, Length: 34792, dtype: object"
      ]
     },
     "execution_count": 71,
     "metadata": {},
     "output_type": "execute_result"
    }
   ],
   "source": [
    "Xfeatures"
   ]
  },
  {
   "cell_type": "code",
   "execution_count": null,
   "id": "de86cb76",
   "metadata": {},
   "outputs": [],
   "source": [
    "cv = CountVectorizer()\n",
    "x= cv.fit_transform(Xfeatures)"
   ]
  },
  {
   "cell_type": "code",
   "execution_count": null,
   "id": "ce220f08",
   "metadata": {
    "scrolled": false
   },
   "outputs": [
    {
     "data": {
      "text/plain": [
       "['00',\n",
       " '000',\n",
       " '000ème',\n",
       " '0021',\n",
       " '00am',\n",
       " '00pm',\n",
       " '01',\n",
       " '0235299130',\n",
       " '0330',\n",
       " '0400',\n",
       " '045',\n",
       " '05',\n",
       " '0512',\n",
       " '06',\n",
       " '073',\n",
       " '0798765',\n",
       " '08',\n",
       " '0800',\n",
       " '09',\n",
       " '099b8',\n",
       " '0l',\n",
       " '0ntworpen',\n",
       " '0o',\n",
       " '0oquot',\n",
       " '0w',\n",
       " '10',\n",
       " '100',\n",
       " '1000',\n",
       " '10000',\n",
       " '100000',\n",
       " '100000yr',\n",
       " '10000th',\n",
       " '1000gifts',\n",
       " '1000s',\n",
       " '1000shs',\n",
       " '1000th',\n",
       " '100s',\n",
       " '100th',\n",
       " '101',\n",
       " '1010',\n",
       " '1015',\n",
       " '101quot',\n",
       " '102',\n",
       " '1021',\n",
       " '1022',\n",
       " '103',\n",
       " '1030',\n",
       " '1030am',\n",
       " '1030pm',\n",
       " '10373629',\n",
       " '104',\n",
       " '1040',\n",
       " '105',\n",
       " '106',\n",
       " '1080',\n",
       " '10am',\n",
       " '10ans',\n",
       " '10h',\n",
       " '10hrs',\n",
       " '10k',\n",
       " '10mins',\n",
       " '10pm',\n",
       " '10puntos',\n",
       " '10ritengono',\n",
       " '10th',\n",
       " '10x',\n",
       " '10year',\n",
       " '10years',\n",
       " '10yrolds',\n",
       " '11',\n",
       " '110',\n",
       " '1100pm',\n",
       " '1104',\n",
       " '110km',\n",
       " '111',\n",
       " '1111ème',\n",
       " '112',\n",
       " '1130',\n",
       " '115',\n",
       " '1162',\n",
       " '118',\n",
       " '11am',\n",
       " '11hour',\n",
       " '11months',\n",
       " '11pm',\n",
       " '11yr',\n",
       " '12',\n",
       " '120',\n",
       " '1200',\n",
       " '121',\n",
       " '12181',\n",
       " '122',\n",
       " '122511',\n",
       " '123',\n",
       " '1230',\n",
       " '125',\n",
       " '1250',\n",
       " '12521260',\n",
       " '128',\n",
       " '128600',\n",
       " '1295',\n",
       " '12days',\n",
       " '12hours',\n",
       " '12hr',\n",
       " '12hrstwitter',\n",
       " '12km',\n",
       " '12th',\n",
       " '12xbuild',\n",
       " '12xsmile',\n",
       " '12yearold',\n",
       " '13',\n",
       " '130',\n",
       " '1300',\n",
       " '130am',\n",
       " '135',\n",
       " '135quot',\n",
       " '13joursdecole',\n",
       " '13th',\n",
       " '13yo',\n",
       " '14',\n",
       " '140',\n",
       " '1400',\n",
       " '14000',\n",
       " '1400th',\n",
       " '147',\n",
       " '14dayz',\n",
       " '14h',\n",
       " '14point',\n",
       " '14th',\n",
       " '15',\n",
       " '150',\n",
       " '1500',\n",
       " '15000',\n",
       " '1503',\n",
       " '15122011',\n",
       " '1516',\n",
       " '1564',\n",
       " '15am',\n",
       " '15h',\n",
       " '15h20',\n",
       " '15kjv',\n",
       " '15m',\n",
       " '15mins',\n",
       " '15minutes',\n",
       " '15oz',\n",
       " '15th',\n",
       " '15yearold',\n",
       " '16',\n",
       " '164',\n",
       " '16days',\n",
       " '16hrs',\n",
       " '16th',\n",
       " '16yearold',\n",
       " '17',\n",
       " '170',\n",
       " '1700',\n",
       " '17000',\n",
       " '1741',\n",
       " '175',\n",
       " '17giveback',\n",
       " '17th',\n",
       " '18',\n",
       " '180',\n",
       " '1808',\n",
       " '1822',\n",
       " '185',\n",
       " '187',\n",
       " '1878',\n",
       " '18th',\n",
       " '18years',\n",
       " '19',\n",
       " '1900',\n",
       " '1900h',\n",
       " '191523',\n",
       " '1917',\n",
       " '1920',\n",
       " '1926',\n",
       " '1929',\n",
       " '1930s',\n",
       " '1936',\n",
       " '1939',\n",
       " '1940s',\n",
       " '1949',\n",
       " '1956',\n",
       " '1960',\n",
       " '1960s',\n",
       " '1973',\n",
       " '1974',\n",
       " '1975',\n",
       " '1976',\n",
       " '1977',\n",
       " '1978',\n",
       " '1979',\n",
       " '1980',\n",
       " '1980s',\n",
       " '1982',\n",
       " '1983',\n",
       " '1984',\n",
       " '1985',\n",
       " '1986',\n",
       " '1987',\n",
       " '1989',\n",
       " '1991',\n",
       " '1992',\n",
       " '199394',\n",
       " '1997',\n",
       " '1999',\n",
       " '19th',\n",
       " '19u',\n",
       " '1allah',\n",
       " '1am',\n",
       " '1amp2',\n",
       " '1another',\n",
       " '1bs',\n",
       " '1d',\n",
       " '1e',\n",
       " '1employee',\n",
       " '1finding',\n",
       " '1h30',\n",
       " '1hr',\n",
       " '1hr22mins',\n",
       " '1john',\n",
       " '1kg',\n",
       " '1o',\n",
       " '1pick',\n",
       " '1s',\n",
       " '1st',\n",
       " '1stwhen',\n",
       " '1styearmedical',\n",
       " '1td',\n",
       " '1the',\n",
       " '1timothy',\n",
       " '1vrijdag',\n",
       " '1yo',\n",
       " '1yr',\n",
       " '20',\n",
       " '200',\n",
       " '2000',\n",
       " '20000',\n",
       " '200000',\n",
       " '2000h',\n",
       " '2000th',\n",
       " '2001',\n",
       " '2004',\n",
       " '2005',\n",
       " '2006',\n",
       " '2007',\n",
       " '2008',\n",
       " '2009',\n",
       " '2009the',\n",
       " '200balle',\n",
       " '201',\n",
       " '2010',\n",
       " '2010s',\n",
       " '2011',\n",
       " '2011movies',\n",
       " '2011whatz',\n",
       " '2012',\n",
       " '2012s',\n",
       " '2012yearofbigdicks',\n",
       " '2035',\n",
       " '204',\n",
       " '209',\n",
       " '20am',\n",
       " '20cm',\n",
       " '20in',\n",
       " '20pm',\n",
       " '20s',\n",
       " '20th',\n",
       " '21',\n",
       " '2100',\n",
       " '211211',\n",
       " '2118',\n",
       " '213',\n",
       " '215',\n",
       " '218',\n",
       " '218000',\n",
       " '21st',\n",
       " '21stfinallybirthday',\n",
       " '22',\n",
       " '2200',\n",
       " '22000',\n",
       " '2230',\n",
       " '224',\n",
       " '22a',\n",
       " '22nd',\n",
       " '23',\n",
       " '230',\n",
       " '230am',\n",
       " '235',\n",
       " '236thbirthdayofthemarinecorps',\n",
       " '23hrs',\n",
       " '23monthold',\n",
       " '23rd',\n",
       " '24',\n",
       " '240',\n",
       " '24fl',\n",
       " '24h',\n",
       " '24hour',\n",
       " '24hours',\n",
       " '24hr',\n",
       " '24hrs',\n",
       " '24live',\n",
       " '24th',\n",
       " '25',\n",
       " '250',\n",
       " '2500',\n",
       " '25000',\n",
       " '25ans',\n",
       " '25th',\n",
       " '26',\n",
       " '261',\n",
       " '263',\n",
       " '26am',\n",
       " '26next',\n",
       " '26th',\n",
       " '27',\n",
       " '270',\n",
       " '275',\n",
       " '2786',\n",
       " '28',\n",
       " '287',\n",
       " '28th',\n",
       " '29',\n",
       " '2a',\n",
       " '2am',\n",
       " '2amp1',\n",
       " '2b',\n",
       " '2bcome',\n",
       " '2c',\n",
       " '2come',\n",
       " '2cover',\n",
       " '2cqfrs',\n",
       " '2d',\n",
       " '2daiz',\n",
       " '2day',\n",
       " '2dayi',\n",
       " '2dayredeemed',\n",
       " '2days',\n",
       " '2daysandchange',\n",
       " '2dec',\n",
       " '2discovering',\n",
       " '2do',\n",
       " '2e',\n",
       " '2encourage',\n",
       " '2g',\n",
       " '2get',\n",
       " '2gether',\n",
       " '2getherproviding',\n",
       " '2h',\n",
       " '2have',\n",
       " '2him',\n",
       " '2hour',\n",
       " '2hr',\n",
       " '2hrs',\n",
       " '2jump',\n",
       " '2kg',\n",
       " '2ma',\n",
       " '2miles',\n",
       " '2moro',\n",
       " '2morrow',\n",
       " '2morrows',\n",
       " '2mrw',\n",
       " '2mw',\n",
       " '2nd',\n",
       " '2night',\n",
       " '2nite',\n",
       " '2o',\n",
       " '2oclock',\n",
       " '2ostor3alyayestor3aliekrabena',\n",
       " '2overcome',\n",
       " '2pac',\n",
       " '2page',\n",
       " '2parents',\n",
       " '2pm',\n",
       " '2quot',\n",
       " '2rbi',\n",
       " '2say',\n",
       " '2society',\n",
       " '2spread',\n",
       " '2steppin',\n",
       " '2thick',\n",
       " '2this',\n",
       " '2u',\n",
       " '2uampurs',\n",
       " '2worry',\n",
       " '2x',\n",
       " '2xist',\n",
       " '2year',\n",
       " '30',\n",
       " '300',\n",
       " '3000',\n",
       " '300000',\n",
       " '30000calories',\n",
       " '3000e',\n",
       " '3000places',\n",
       " '300m',\n",
       " '300s',\n",
       " '300th',\n",
       " '302',\n",
       " '304with',\n",
       " '305',\n",
       " '30am',\n",
       " '30e',\n",
       " '30mins',\n",
       " '30pm',\n",
       " '30second',\n",
       " '30th',\n",
       " '31',\n",
       " '311',\n",
       " '31st',\n",
       " '32',\n",
       " '3232',\n",
       " '324',\n",
       " '32mb',\n",
       " '33',\n",
       " '330',\n",
       " '330000',\n",
       " '330thatd',\n",
       " '336k',\n",
       " '33quot',\n",
       " '33yearold',\n",
       " '34',\n",
       " '3424',\n",
       " '345',\n",
       " '346',\n",
       " '34am',\n",
       " '35',\n",
       " '350',\n",
       " '3500',\n",
       " '355',\n",
       " '35centwings',\n",
       " '35mm',\n",
       " '36',\n",
       " '360deg',\n",
       " '3615',\n",
       " '365',\n",
       " '37',\n",
       " '37574',\n",
       " '37m',\n",
       " '38',\n",
       " '39',\n",
       " '396',\n",
       " '397',\n",
       " '399',\n",
       " '39975216900076542',\n",
       " '3alekwa7ed',\n",
       " '3am',\n",
       " '3amp7',\n",
       " '3amtweets',\n",
       " '3bn',\n",
       " '3d',\n",
       " '3dad',\n",
       " '3ds',\n",
       " '3e1',\n",
       " '3g',\n",
       " '3hr',\n",
       " '3hrs',\n",
       " '3in',\n",
       " '3isawa',\n",
       " '3ish',\n",
       " '3knutselbakken',\n",
       " '3l',\n",
       " '3more',\n",
       " '3morepoints',\n",
       " '3ndy',\n",
       " '3noud',\n",
       " '3packsofcigs',\n",
       " '3pm',\n",
       " '3quot',\n",
       " '3rd',\n",
       " '3s',\n",
       " '3see',\n",
       " '3stand',\n",
       " '3this',\n",
       " '3w',\n",
       " '3weeks',\n",
       " '3x',\n",
       " '3yearolds',\n",
       " '3years',\n",
       " '3yo',\n",
       " '3ème',\n",
       " '40',\n",
       " '400',\n",
       " '4000',\n",
       " '40000',\n",
       " '4000th',\n",
       " '4032378477',\n",
       " '4060',\n",
       " '40feet',\n",
       " '40k',\n",
       " '40mins',\n",
       " '40s',\n",
       " '40th',\n",
       " '40yearold',\n",
       " '41',\n",
       " '412',\n",
       " '413',\n",
       " '41733',\n",
       " '42',\n",
       " '420',\n",
       " '420p',\n",
       " '430',\n",
       " '430am',\n",
       " '430pm',\n",
       " '4368th',\n",
       " '43yeah',\n",
       " '44',\n",
       " '44he',\n",
       " '45',\n",
       " '4500',\n",
       " '458',\n",
       " '45a',\n",
       " '45s',\n",
       " '45th',\n",
       " '46',\n",
       " '47',\n",
       " '48',\n",
       " '49',\n",
       " '49er',\n",
       " '49ers',\n",
       " '4all',\n",
       " '4am',\n",
       " '4amand',\n",
       " '4b',\n",
       " '4change',\n",
       " '4cousins',\n",
       " '4day',\n",
       " '4en',\n",
       " '4get',\n",
       " '4give',\n",
       " '4h',\n",
       " '4kg',\n",
       " '4lb',\n",
       " '4m',\n",
       " '4mealsin3days',\n",
       " '4o',\n",
       " '4oo',\n",
       " '4oooo',\n",
       " '4pink',\n",
       " '4pm',\n",
       " '4quotjack',\n",
       " '4rm',\n",
       " '4s',\n",
       " '4sake',\n",
       " '4th',\n",
       " '4u',\n",
       " '4uur',\n",
       " '4ward',\n",
       " '4x4s',\n",
       " '4year',\n",
       " '4your',\n",
       " '4yrs',\n",
       " '4º',\n",
       " '50',\n",
       " '500',\n",
       " '5000',\n",
       " '50000',\n",
       " '500000',\n",
       " '500aday',\n",
       " '500th',\n",
       " '50mill',\n",
       " '50p',\n",
       " '50th',\n",
       " '51',\n",
       " '510',\n",
       " '5110',\n",
       " '512',\n",
       " '52',\n",
       " '523',\n",
       " '525600',\n",
       " '52º',\n",
       " '53',\n",
       " '530',\n",
       " '530am',\n",
       " '54',\n",
       " '545',\n",
       " '55',\n",
       " '5555',\n",
       " '57',\n",
       " '580',\n",
       " '58am',\n",
       " '59',\n",
       " '5900',\n",
       " '5995',\n",
       " '5a',\n",
       " '5a1',\n",
       " '5air',\n",
       " '5ala9t',\n",
       " '5alla9',\n",
       " '5am',\n",
       " '5b',\n",
       " '5day',\n",
       " '5days',\n",
       " '5daysleft',\n",
       " '5dec',\n",
       " '5december',\n",
       " '5euro',\n",
       " '5hour',\n",
       " '5hr',\n",
       " '5im',\n",
       " '5ish',\n",
       " '5k',\n",
       " '5letona',\n",
       " '5mins',\n",
       " '5mo',\n",
       " '5pm',\n",
       " '5s',\n",
       " '5saaraawwww',\n",
       " '5saraaaw',\n",
       " '5th',\n",
       " '5yo',\n",
       " '60',\n",
       " '600',\n",
       " '6000',\n",
       " '60mins',\n",
       " '60minutes',\n",
       " '60pg',\n",
       " '612',\n",
       " '615',\n",
       " '62',\n",
       " '630',\n",
       " '630am',\n",
       " '640',\n",
       " '645',\n",
       " '64quot',\n",
       " '65',\n",
       " '650',\n",
       " '656',\n",
       " '66',\n",
       " '666',\n",
       " '67',\n",
       " '672',\n",
       " '68',\n",
       " '686',\n",
       " '69',\n",
       " '6ala3',\n",
       " '6am',\n",
       " '6am9pm',\n",
       " '6days',\n",
       " '6e',\n",
       " '6hrs',\n",
       " '6inch',\n",
       " '6lb',\n",
       " '6lbs',\n",
       " '6midnight',\n",
       " '6months',\n",
       " '6mths',\n",
       " '6p',\n",
       " '6pm',\n",
       " '6point',\n",
       " '6th',\n",
       " '70',\n",
       " '700',\n",
       " '708',\n",
       " '70s',\n",
       " '70th',\n",
       " '71',\n",
       " '710',\n",
       " '715',\n",
       " '72',\n",
       " '7201',\n",
       " '73',\n",
       " '730am',\n",
       " '732',\n",
       " '74',\n",
       " '75',\n",
       " '750',\n",
       " '750am',\n",
       " '75123',\n",
       " '75th',\n",
       " '76',\n",
       " '7614',\n",
       " '78',\n",
       " '78yo',\n",
       " '79',\n",
       " '795',\n",
       " '7adults',\n",
       " '7ag',\n",
       " '7am',\n",
       " '7and',\n",
       " '7eme',\n",
       " '7hillsstaff',\n",
       " '7iedereen',\n",
       " '7o5',\n",
       " '7page',\n",
       " '7papers',\n",
       " '7pm',\n",
       " '7pslx',\n",
       " '7quot',\n",
       " '7s',\n",
       " '7th',\n",
       " '7up',\n",
       " '7x2',\n",
       " '7yearold',\n",
       " '80',\n",
       " '800',\n",
       " '809',\n",
       " '80s',\n",
       " '80talsfezt',\n",
       " '80th',\n",
       " '810',\n",
       " '812',\n",
       " '816',\n",
       " '82',\n",
       " '82ndminute',\n",
       " '82yearold',\n",
       " '83',\n",
       " '830',\n",
       " '84',\n",
       " '85',\n",
       " '850',\n",
       " '856674',\n",
       " '86',\n",
       " '876',\n",
       " '88',\n",
       " '8830cant',\n",
       " '89',\n",
       " '8927398456',\n",
       " '8addys',\n",
       " '8am',\n",
       " '8am8pm',\n",
       " '8d',\n",
       " '8dec',\n",
       " '8ergrond',\n",
       " '8gb',\n",
       " '8h30',\n",
       " '8ima',\n",
       " '8oclock',\n",
       " '8pm',\n",
       " '8th',\n",
       " '8week',\n",
       " '8zone',\n",
       " '90',\n",
       " '9000',\n",
       " '90210',\n",
       " '90210ftw',\n",
       " '905am',\n",
       " '90min',\n",
       " '90s',\n",
       " '90th',\n",
       " '90yr',\n",
       " '91',\n",
       " '910',\n",
       " '911',\n",
       " '916',\n",
       " '92',\n",
       " '93',\n",
       " '930',\n",
       " '935',\n",
       " '949',\n",
       " '95',\n",
       " '95day',\n",
       " '96',\n",
       " '96yo',\n",
       " '97',\n",
       " '98',\n",
       " '99',\n",
       " '997',\n",
       " '998',\n",
       " '999',\n",
       " '9am',\n",
       " '9ayma',\n",
       " '9faret',\n",
       " '9h',\n",
       " '9hts',\n",
       " '9month',\n",
       " '9pm',\n",
       " '9pm6am',\n",
       " '9s',\n",
       " '9th',\n",
       " '9yo',\n",
       " 'a27',\n",
       " 'a3',\n",
       " 'a4',\n",
       " 'a4akir',\n",
       " 'a6',\n",
       " 'a6l3',\n",
       " 'a7la',\n",
       " 'a7md',\n",
       " 'aa',\n",
       " 'aaa',\n",
       " 'aaaaaaaaaaaaa',\n",
       " 'aaaaaaah',\n",
       " 'aaaaaarggh',\n",
       " 'aaaaahh',\n",
       " 'aaaaahhhhh',\n",
       " 'aaaaand',\n",
       " 'aaaand',\n",
       " 'aaaannnddd',\n",
       " 'aaah',\n",
       " 'aaahh',\n",
       " 'aaahhh',\n",
       " 'aaalllllli',\n",
       " 'aaand',\n",
       " 'aaawww',\n",
       " 'aah',\n",
       " 'aaha',\n",
       " 'aahaha',\n",
       " 'aahhh',\n",
       " 'aahhhhh',\n",
       " 'aam',\n",
       " 'aamir',\n",
       " 'aamirs',\n",
       " 'aamp',\n",
       " 'aampm',\n",
       " 'aan',\n",
       " 'aanbellen',\n",
       " 'aandacht',\n",
       " 'aandeslag',\n",
       " 'aanfietsen',\n",
       " 'aangeboden',\n",
       " 'aangekleed',\n",
       " 'aangemaakt',\n",
       " 'aangename',\n",
       " 'aant',\n",
       " 'aantal',\n",
       " 'aap',\n",
       " 'aappearing',\n",
       " 'aar',\n",
       " 'aardappel',\n",
       " 'aardig',\n",
       " 'aaron',\n",
       " 'aasman',\n",
       " 'ab',\n",
       " 'aback',\n",
       " 'abaixo',\n",
       " 'abandon',\n",
       " 'abandona',\n",
       " 'abandoned',\n",
       " 'abandoning',\n",
       " 'abandonment',\n",
       " 'abandonmenti',\n",
       " 'abbott',\n",
       " 'abbozzando',\n",
       " 'abby',\n",
       " 'abc',\n",
       " 'abcfamily',\n",
       " 'abd',\n",
       " 'abdomen',\n",
       " 'abdominal',\n",
       " 'abduct',\n",
       " 'abe',\n",
       " 'abegabe',\n",
       " 'abercrombie',\n",
       " 'abi',\n",
       " 'abide',\n",
       " 'abiding',\n",
       " 'abigail',\n",
       " 'abilene',\n",
       " 'abilities',\n",
       " 'ability',\n",
       " 'abiogenesis',\n",
       " 'abit',\n",
       " 'abiye',\n",
       " 'abjectly',\n",
       " 'able',\n",
       " 'able2smile',\n",
       " 'ablyquot',\n",
       " 'aboard',\n",
       " 'abode',\n",
       " 'abolitionists',\n",
       " 'abonnement',\n",
       " 'aboot',\n",
       " 'abortion',\n",
       " 'abound',\n",
       " 'aboundquot',\n",
       " 'about',\n",
       " 'aboutta',\n",
       " 'abouttoscarf',\n",
       " 'abouut',\n",
       " 'above',\n",
       " 'abram',\n",
       " 'abraços',\n",
       " 'abren',\n",
       " 'abrir',\n",
       " 'abroad',\n",
       " 'abrupt',\n",
       " 'abruptely',\n",
       " 'abruptly',\n",
       " 'abs',\n",
       " 'absailing',\n",
       " 'abscence',\n",
       " 'absence',\n",
       " 'absent',\n",
       " 'absentminded',\n",
       " 'absolute',\n",
       " 'absolutely',\n",
       " 'absoulute',\n",
       " 'abstract',\n",
       " 'absurd',\n",
       " 'absurdly',\n",
       " 'abt',\n",
       " 'abu',\n",
       " 'abujamal',\n",
       " 'abundance',\n",
       " 'abundant',\n",
       " 'abuse',\n",
       " 'abused',\n",
       " 'abusing',\n",
       " 'abusive',\n",
       " 'abut',\n",
       " 'abyssinia',\n",
       " 'ac130',\n",
       " 'aca',\n",
       " 'acaba',\n",
       " 'acababo',\n",
       " 'acabado',\n",
       " 'acabo',\n",
       " 'acacia',\n",
       " 'academic',\n",
       " 'academics',\n",
       " 'academy',\n",
       " 'acc',\n",
       " 'accelerate',\n",
       " 'accelerating',\n",
       " 'acceleration',\n",
       " 'accent',\n",
       " 'accents',\n",
       " 'accept',\n",
       " 'acceptable',\n",
       " 'acceptance',\n",
       " 'accepted',\n",
       " 'acceptent',\n",
       " 'accepting',\n",
       " 'accepts',\n",
       " 'acceso',\n",
       " 'accesorios',\n",
       " 'access',\n",
       " 'accessgroups',\n",
       " 'accessible',\n",
       " 'accessoires',\n",
       " 'accessories',\n",
       " 'accessory',\n",
       " 'accident',\n",
       " 'accidental',\n",
       " 'accidentally',\n",
       " 'accidentallyy',\n",
       " 'accidentlook',\n",
       " 'accidently',\n",
       " 'accidents',\n",
       " 'accomodation',\n",
       " 'accompagner',\n",
       " 'accompanied',\n",
       " 'accompanies',\n",
       " 'accompany',\n",
       " 'accompanying',\n",
       " 'accomplish',\n",
       " 'accomplished',\n",
       " 'accomplishedpart',\n",
       " 'accomplishment',\n",
       " 'accord',\n",
       " 'according',\n",
       " 'accordingly',\n",
       " 'account',\n",
       " 'accountants',\n",
       " 'accounting',\n",
       " 'accounts',\n",
       " 'accouting',\n",
       " 'accredited',\n",
       " 'accrediting',\n",
       " 'accrochage',\n",
       " 'acct',\n",
       " 'acctblty',\n",
       " 'accumulare',\n",
       " 'accumulate',\n",
       " 'accumulated',\n",
       " 'accumulation',\n",
       " 'accuracy',\n",
       " 'accurate',\n",
       " 'accurately',\n",
       " 'accursed',\n",
       " 'accusations',\n",
       " 'accuse',\n",
       " 'accused',\n",
       " 'accuser',\n",
       " 'accuses',\n",
       " 'accusing',\n",
       " 'ace',\n",
       " 'aced',\n",
       " 'ach',\n",
       " 'achats',\n",
       " 'ache',\n",
       " 'ached',\n",
       " 'aches',\n",
       " 'acheter',\n",
       " 'acheté',\n",
       " 'achey',\n",
       " 'achieve',\n",
       " 'achievecheryl',\n",
       " 'achieved',\n",
       " 'achievement',\n",
       " 'achievements',\n",
       " 'achieving',\n",
       " 'achievment',\n",
       " 'aching',\n",
       " 'achingly',\n",
       " 'achter',\n",
       " 'acid',\n",
       " 'acidente',\n",
       " ...]"
      ]
     },
     "execution_count": 73,
     "metadata": {},
     "output_type": "execute_result"
    }
   ],
   "source": [
    "cv.get_feature_names()"
   ]
  },
  {
   "cell_type": "code",
   "execution_count": null,
   "id": "61e13b70",
   "metadata": {},
   "outputs": [],
   "source": [
    "X_train,X_test,y_train,y_test = train_test_split(x,ylabels,test_size=0.3,random_state=30)"
   ]
  },
  {
   "cell_type": "code",
   "execution_count": null,
   "id": "6529a1ca",
   "metadata": {},
   "outputs": [
    {
     "data": {
      "text/plain": [
       "MultinomialNB()"
      ]
     },
     "execution_count": 75,
     "metadata": {},
     "output_type": "execute_result"
    }
   ],
   "source": [
    "nv_model = MultinomialNB()\n",
    "nv_model.fit(X_train,y_train)"
   ]
  },
  {
   "cell_type": "code",
   "execution_count": null,
   "id": "65b609e6",
   "metadata": {},
   "outputs": [
    {
     "data": {
      "text/plain": [
       "0.5604521939068787"
      ]
     },
     "execution_count": 76,
     "metadata": {},
     "output_type": "execute_result"
    }
   ],
   "source": [
    "nv_model.score(X_test,y_test)"
   ]
  },
  {
   "cell_type": "code",
   "execution_count": null,
   "id": "5611c8d1",
   "metadata": {},
   "outputs": [],
   "source": [
    "y_pred_for_nv = nv_model.predict(X_test)"
   ]
  },
  {
   "cell_type": "code",
   "execution_count": null,
   "id": "eebc982d",
   "metadata": {},
   "outputs": [
    {
     "data": {
      "text/plain": [
       "array(['sadness', 'joy', 'joy', ..., 'sadness', 'joy', 'joy'], dtype='<U8')"
      ]
     },
     "execution_count": 78,
     "metadata": {},
     "output_type": "execute_result"
    }
   ],
   "source": [
    "y_pred_for_nv"
   ]
  },
  {
   "cell_type": "code",
   "execution_count": null,
   "id": "95ad24d2",
   "metadata": {},
   "outputs": [],
   "source": [
    "#makeing a single prediction\n",
    "\n"
   ]
  },
  {
   "cell_type": "code",
   "execution_count": null,
   "id": "3ae68eef",
   "metadata": {},
   "outputs": [],
   "source": [
    "sample_text = ['we are going to remove you from group']"
   ]
  },
  {
   "cell_type": "code",
   "execution_count": null,
   "id": "2eac38bb",
   "metadata": {},
   "outputs": [],
   "source": [
    "vect = cv.transform(sample_text).toarray()"
   ]
  },
  {
   "cell_type": "code",
   "execution_count": null,
   "id": "0490cad7",
   "metadata": {},
   "outputs": [
    {
     "data": {
      "text/plain": [
       "array(['joy'], dtype='<U8')"
      ]
     },
     "execution_count": 85,
     "metadata": {},
     "output_type": "execute_result"
    }
   ],
   "source": [
    "nv_model.predict(vect)"
   ]
  },
  {
   "cell_type": "code",
   "execution_count": null,
   "id": "6b93543c",
   "metadata": {},
   "outputs": [
    {
     "data": {
      "text/plain": [
       "array([[1.05993455e-02, 2.83205832e-04, 7.40259422e-02, 4.58542948e-01,\n",
       "        6.49418923e-06, 4.50535459e-01, 9.59043252e-08, 6.00650844e-03]])"
      ]
     },
     "execution_count": 86,
     "metadata": {},
     "output_type": "execute_result"
    }
   ],
   "source": [
    "nv_model.predict_proba(vect)"
   ]
  },
  {
   "cell_type": "code",
   "execution_count": null,
   "id": "dcc300a4",
   "metadata": {},
   "outputs": [
    {
     "data": {
      "text/plain": [
       "array(['anger', 'disgust', 'fear', 'joy', 'neutral', 'sadness', 'shame',\n",
       "       'surprise'], dtype='<U8')"
      ]
     },
     "execution_count": 87,
     "metadata": {},
     "output_type": "execute_result"
    }
   ],
   "source": [
    "nv_model.classes_  "
   ]
  },
  {
   "cell_type": "code",
   "execution_count": null,
   "id": "ffac73eb",
   "metadata": {},
   "outputs": [
    {
     "data": {
      "text/plain": [
       "0.4585429484600843"
      ]
     },
     "execution_count": 88,
     "metadata": {},
     "output_type": "execute_result"
    }
   ],
   "source": [
    "np.max(nv_model.predict_proba(vect))"
   ]
  },
  {
   "cell_type": "code",
   "execution_count": null,
   "id": "191149d7",
   "metadata": {},
   "outputs": [],
   "source": [
    "def predict_emotion(sample_text,model):\n",
    "    myvect = cv.transform(sample_text).toarray()\n",
    "    prediction =model.predict(myvect)\n",
    "    pred_proba =  np.max(model.pred_proba(myvect))\n",
    "    predic_percentage_for_all = dict(zip(model.classes_,predict_proba))\n",
    "    return predic_percentage_for_all"
   ]
  },
  {
   "cell_type": "code",
   "execution_count": null,
   "id": "a940647c",
   "metadata": {},
   "outputs": [
    {
     "ename": "AttributeError",
     "evalue": "'MultinomialNB' object has no attribute 'pred_proba'",
     "output_type": "error",
     "traceback": [
      "\u001b[1;31m---------------------------------------------------------------------------\u001b[0m",
      "\u001b[1;31mAttributeError\u001b[0m                            Traceback (most recent call last)",
      "\u001b[1;32m~\\AppData\\Local\\Temp/ipykernel_11216/4261448054.py\u001b[0m in \u001b[0;36m<module>\u001b[1;34m\u001b[0m\n\u001b[1;32m----> 1\u001b[1;33m \u001b[0mpredict_emotion\u001b[0m\u001b[1;33m(\u001b[0m\u001b[0msample_text\u001b[0m\u001b[1;33m,\u001b[0m\u001b[0mnv_model\u001b[0m\u001b[1;33m)\u001b[0m\u001b[1;33m\u001b[0m\u001b[1;33m\u001b[0m\u001b[0m\n\u001b[0m",
      "\u001b[1;32m~\\AppData\\Local\\Temp/ipykernel_11216/2254780315.py\u001b[0m in \u001b[0;36mpredict_emotion\u001b[1;34m(sample_text, model)\u001b[0m\n\u001b[0;32m      2\u001b[0m     \u001b[0mmyvect\u001b[0m \u001b[1;33m=\u001b[0m \u001b[0mcv\u001b[0m\u001b[1;33m.\u001b[0m\u001b[0mtransform\u001b[0m\u001b[1;33m(\u001b[0m\u001b[0msample_text\u001b[0m\u001b[1;33m)\u001b[0m\u001b[1;33m.\u001b[0m\u001b[0mtoarray\u001b[0m\u001b[1;33m(\u001b[0m\u001b[1;33m)\u001b[0m\u001b[1;33m\u001b[0m\u001b[1;33m\u001b[0m\u001b[0m\n\u001b[0;32m      3\u001b[0m     \u001b[0mprediction\u001b[0m \u001b[1;33m=\u001b[0m\u001b[0mmodel\u001b[0m\u001b[1;33m.\u001b[0m\u001b[0mpredict\u001b[0m\u001b[1;33m(\u001b[0m\u001b[0mmyvect\u001b[0m\u001b[1;33m)\u001b[0m\u001b[1;33m\u001b[0m\u001b[1;33m\u001b[0m\u001b[0m\n\u001b[1;32m----> 4\u001b[1;33m     \u001b[0mpred_proba\u001b[0m \u001b[1;33m=\u001b[0m  \u001b[0mnp\u001b[0m\u001b[1;33m.\u001b[0m\u001b[0mmax\u001b[0m\u001b[1;33m(\u001b[0m\u001b[0mmodel\u001b[0m\u001b[1;33m.\u001b[0m\u001b[0mpred_proba\u001b[0m\u001b[1;33m(\u001b[0m\u001b[0mmyvect\u001b[0m\u001b[1;33m)\u001b[0m\u001b[1;33m)\u001b[0m\u001b[1;33m\u001b[0m\u001b[1;33m\u001b[0m\u001b[0m\n\u001b[0m\u001b[0;32m      5\u001b[0m     \u001b[0mpredic_percentage_for_all\u001b[0m \u001b[1;33m=\u001b[0m \u001b[0mdict\u001b[0m\u001b[1;33m(\u001b[0m\u001b[0mzip\u001b[0m\u001b[1;33m(\u001b[0m\u001b[0mmodel\u001b[0m\u001b[1;33m.\u001b[0m\u001b[0mclasses_\u001b[0m\u001b[1;33m,\u001b[0m\u001b[0mpredict_proba\u001b[0m\u001b[1;33m)\u001b[0m\u001b[1;33m)\u001b[0m\u001b[1;33m\u001b[0m\u001b[1;33m\u001b[0m\u001b[0m\n\u001b[0;32m      6\u001b[0m     \u001b[1;32mreturn\u001b[0m \u001b[0mpredic_percentage_for_all\u001b[0m\u001b[1;33m\u001b[0m\u001b[1;33m\u001b[0m\u001b[0m\n",
      "\u001b[1;31mAttributeError\u001b[0m: 'MultinomialNB' object has no attribute 'pred_proba'"
     ]
    }
   ],
   "source": [
    "predict_emotion(sample_text,nv_model)"
   ]
  },
  {
   "cell_type": "code",
   "execution_count": null,
   "id": "94795e45",
   "metadata": {},
   "outputs": [
    {
     "ename": "AttributeError",
     "evalue": "'list' object has no attribute 'nv_model'",
     "output_type": "error",
     "traceback": [
      "\u001b[1;31m---------------------------------------------------------------------------\u001b[0m",
      "\u001b[1;31mAttributeError\u001b[0m                            Traceback (most recent call last)",
      "\u001b[1;32m~\\AppData\\Local\\Temp/ipykernel_11216/1777419835.py\u001b[0m in \u001b[0;36m<module>\u001b[1;34m\u001b[0m\n\u001b[1;32m----> 1\u001b[1;33m \u001b[0mpredict_emotion\u001b[0m\u001b[1;33m(\u001b[0m\u001b[1;33m[\u001b[0m\u001b[1;34m' he hates running all day'\u001b[0m\u001b[1;33m]\u001b[0m\u001b[1;33m.\u001b[0m\u001b[0mnv_model\u001b[0m\u001b[1;33m)\u001b[0m\u001b[1;33m\u001b[0m\u001b[1;33m\u001b[0m\u001b[0m\n\u001b[0m",
      "\u001b[1;31mAttributeError\u001b[0m: 'list' object has no attribute 'nv_model'"
     ]
    }
   ],
   "source": [
    "predict_emotion([' he hates running all day'].nv_model)"
   ]
  },
  {
   "cell_type": "code",
   "execution_count": null,
   "id": "dbe1bc1f",
   "metadata": {},
   "outputs": [
    {
     "name": "stdout",
     "output_type": "stream",
     "text": [
      "              precision    recall  f1-score   support\n",
      "\n",
      "       anger       0.66      0.47      0.55      1320\n",
      "     disgust       0.42      0.03      0.06       237\n",
      "        fear       0.73      0.59      0.65      1620\n",
      "         joy       0.50      0.86      0.64      3280\n",
      "     neutral       0.35      0.03      0.06       698\n",
      "     sadness       0.56      0.53      0.54      2052\n",
      "       shame       1.00      0.02      0.05        43\n",
      "    surprise       0.63      0.27      0.38      1188\n",
      "\n",
      "    accuracy                           0.56     10438\n",
      "   macro avg       0.61      0.35      0.37     10438\n",
      "weighted avg       0.57      0.56      0.53     10438\n",
      "\n"
     ]
    }
   ],
   "source": [
    "#model eveluation\n",
    "print(classification_report(y_test,y_pred_for_nv ))"
   ]
  },
  {
   "cell_type": "code",
   "execution_count": null,
   "id": "af7224a0",
   "metadata": {},
   "outputs": [],
   "source": []
  },
  {
   "cell_type": "code",
   "execution_count": null,
   "id": "2f273ae8",
   "metadata": {},
   "outputs": [
    {
     "ename": "NameError",
     "evalue": "name 'confusion_matrix' is not defined",
     "output_type": "error",
     "traceback": [
      "\u001b[1;31m---------------------------------------------------------------------------\u001b[0m",
      "\u001b[1;31mNameError\u001b[0m                                 Traceback (most recent call last)",
      "\u001b[1;32m~\\AppData\\Local\\Temp/ipykernel_11216/3324264258.py\u001b[0m in \u001b[0;36m<module>\u001b[1;34m\u001b[0m\n\u001b[1;32m----> 1\u001b[1;33m \u001b[0mconfusion_matrix\u001b[0m\u001b[1;33m(\u001b[0m\u001b[0my_test\u001b[0m\u001b[1;33m,\u001b[0m\u001b[0my_pred_for_nv\u001b[0m\u001b[1;33m)\u001b[0m\u001b[1;33m\u001b[0m\u001b[1;33m\u001b[0m\u001b[0m\n\u001b[0m",
      "\u001b[1;31mNameError\u001b[0m: name 'confusion_matrix' is not defined"
     ]
    }
   ],
   "source": [
    "confusion_matrix(y_test,y_pred_for_nv)"
   ]
  },
  {
   "cell_type": "code",
   "execution_count": null,
   "id": "41870c67",
   "metadata": {},
   "outputs": [
    {
     "data": {
      "text/plain": [
       "<sklearn.metrics._plot.confusion_matrix.ConfusionMatrixDisplay at 0x112d22765e0>"
      ]
     },
     "execution_count": 94,
     "metadata": {},
     "output_type": "execute_result"
    },
    {
     "data": {
      "image/png": "[encoded data removed]",
      "text/plain": [
       "<Figure size 432x288 with 2 Axes>"
      ]
     },
     "metadata": {
      "needs_background": "light"
     },
     "output_type": "display_data"
    }
   ],
   "source": [
    "plot_confusion_matrix(nv_model,X_test,y_test)"
   ]
  },
  {
   "cell_type": "code",
   "execution_count": null,
   "id": "633ac994",
   "metadata": {},
   "outputs": [],
   "source": [
    "import joblib\n"
   ]
  },
  {
   "cell_type": "code",
   "execution_count": null,
   "id": "e0000ab5",
   "metadata": {},
   "outputs": [
    {
     "name": "stdout",
     "output_type": "stream",
     "text": [
      "Requirement already satisfied: joblib in c:\\users\\hp\\anaconda3\\lib\\site-packages (1.1.0)Note: you may need to restart the kernel to use updated packages.\n",
      "\n"
     ]
    }
   ],
   "source": [
    "pip install joblib"
   ]
  },
  {
   "cell_type": "code",
   "execution_count": null,
   "id": "9e6bf1ff",
   "metadata": {},
   "outputs": [
    {
     "name": "stdout",
     "output_type": "stream",
     "text": [
      "Requirement already satisfied: nbconvert in c:\\users\\hp\\anaconda3\\lib\\site-packages (6.1.0)\n",
      "Requirement already satisfied: bleach in c:\\users\\hp\\anaconda3\\lib\\site-packages (from nbconvert) (4.0.0)\n",
      "Requirement already satisfied: defusedxml in c:\\users\\hp\\anaconda3\\lib\\site-packages (from nbconvert) (0.7.1)\n",
      "Requirement already satisfied: mistune<2,>=0.8.1 in c:\\users\\hp\\anaconda3\\lib\\site-packages (from nbconvert) (0.8.4)\n",
      "Requirement already satisfied: traitlets>=5.0 in c:\\users\\hp\\anaconda3\\lib\\site-packages (from nbconvert) (5.1.0)\n",
      "Note: you may need to restart the kernel to use updated packages.Requirement already satisfied: nbclient<0.6.0,>=0.5.0 in c:\\users\\hp\\anaconda3\\lib\\site-packages (from nbconvert) (0.5.3)\n",
      "Requirement already satisfied: jupyterlab-pygments in c:\\users\\hp\\anaconda3\\lib\\site-packages (from nbconvert) (0.1.2)\n",
      "Requirement already satisfied: pandocfilters>=1.4.1 in c:\\users\\hp\\anaconda3\\lib\\site-packages (from nbconvert) (1.4.3)\n",
      "Requirement already satisfied: nbformat>=4.4 in c:\\users\\hp\\anaconda3\\lib\\site-packages (from nbconvert) (5.1.3)\n",
      "Requirement already satisfied: testpath in c:\\users\\hp\\anaconda3\\lib\\site-packages (from nbconvert) (0.5.0)\n",
      "Requirement already satisfied: entrypoints>=0.2.2 in c:\\users\\hp\\anaconda3\\lib\\site-packages (from nbconvert) (0.3)\n",
      "Requirement already satisfied: jupyter-core in c:\\users\\hp\\anaconda3\\lib\\site-packages (from nbconvert) (4.8.1)\n",
      "Requirement already satisfied: jinja2>=2.4 in c:\\users\\hp\\anaconda3\\lib\\site-packages (from nbconvert) (2.11.3)\n",
      "Requirement already satisfied: pygments>=2.4.1 in c:\\users\\hp\\anaconda3\\lib\\site-packages (from nbconvert) (2.10.0)\n",
      "Requirement already satisfied: MarkupSafe>=0.23 in c:\\users\\hp\\anaconda3\\lib\\site-packages (from jinja2>=2.4->nbconvert) (1.1.1)\n",
      "Requirement already satisfied: jupyter-client>=6.1.5 in c:\\users\\hp\\anaconda3\\lib\\site-packages (from nbclient<0.6.0,>=0.5.0->nbconvert) (6.1.12)\n",
      "Requirement already satisfied: nest-asyncio in c:\\users\\hp\\anaconda3\\lib\\site-packages (from nbclient<0.6.0,>=0.5.0->nbconvert) (1.5.1)\n",
      "Requirement already satisfied: async-generator in c:\\users\\hp\\anaconda3\\lib\\site-packages (from nbclient<0.6.0,>=0.5.0->nbconvert) (1.10)\n",
      "Requirement already satisfied: python-dateutil>=2.1 in c:\\users\\hp\\anaconda3\\lib\\site-packages (from jupyter-client>=6.1.5->nbclient<0.6.0,>=0.5.0->nbconvert) (2.8.2)\n",
      "Requirement already satisfied: tornado>=4.1 in c:\\users\\hp\\anaconda3\\lib\\site-packages (from jupyter-client>=6.1.5->nbclient<0.6.0,>=0.5.0->nbconvert) (6.1)\n",
      "Requirement already satisfied: pyzmq>=13 in c:\\users\\hp\\anaconda3\\lib\\site-packages (from jupyter-client>=6.1.5->nbclient<0.6.0,>=0.5.0->nbconvert) (22.2.1)\n",
      "Requirement already satisfied: pywin32>=1.0 in c:\\users\\hp\\anaconda3\\lib\\site-packages (from jupyter-core->nbconvert) (228)\n",
      "\n",
      "Requirement already satisfied: jsonschema!=2.5.0,>=2.4 in c:\\users\\hp\\anaconda3\\lib\\site-packages (from nbformat>=4.4->nbconvert) (3.2.0)\n",
      "Requirement already satisfied: ipython-genutils in c:\\users\\hp\\anaconda3\\lib\\site-packages (from nbformat>=4.4->nbconvert) (0.2.0)\n",
      "Requirement already satisfied: pyrsistent>=0.14.0 in c:\\users\\hp\\anaconda3\\lib\\site-packages (from jsonschema!=2.5.0,>=2.4->nbformat>=4.4->nbconvert) (0.18.0)\n",
      "Requirement already satisfied: setuptools in c:\\users\\hp\\anaconda3\\lib\\site-packages (from jsonschema!=2.5.0,>=2.4->nbformat>=4.4->nbconvert) (58.0.4)\n",
      "Requirement already satisfied: attrs>=17.4.0 in c:\\users\\hp\\anaconda3\\lib\\site-packages (from jsonschema!=2.5.0,>=2.4->nbformat>=4.4->nbconvert) (21.2.0)\n",
      "Requirement already satisfied: six>=1.11.0 in c:\\users\\hp\\anaconda3\\lib\\site-packages (from jsonschema!=2.5.0,>=2.4->nbformat>=4.4->nbconvert) (1.16.0)\n",
      "Requirement already satisfied: webencodings in c:\\users\\hp\\anaconda3\\lib\\site-packages (from bleach->nbconvert) (0.5.1)\n",
      "Requirement already satisfied: packaging in c:\\users\\hp\\anaconda3\\lib\\site-packages (from bleach->nbconvert) (21.0)\n",
      "Requirement already satisfied: pyparsing>=2.0.2 in c:\\users\\hp\\anaconda3\\lib\\site-packages (from packaging->bleach->nbconvert) (3.0.4)\n"
     ]
    }
   ],
   "source": [
    "pip install nbconvert"
   ]
  },
  {
   "cell_type": "code",
   "execution_count": null,
   "id": "0709e35f",
   "metadata": {},
   "outputs": [],
   "source": []
  },
  {
   "cell_type": "code",
   "execution_count": null,
   "id": "c598b49c",
   "metadata": {},
   "outputs": [],
   "source": []
  },
  {
   "cell_type": "code",
   "execution_count": null,
   "id": "7b83a93d",
   "metadata": {},
   "outputs": [],
   "source": []
  },
  {
   "cell_type": "code",
   "execution_count": null,
   "id": "a60cda69",
   "metadata": {},
   "outputs": [],
   "source": []
  }
 ],
 "metadata": {
  "kernelspec": {
   "display_name": "Python 3 (ipykernel)",
   "language": "python",
   "name": "python3"
  },
  "language_info": {
   "codemirror_mode": {
    "name": "ipython",
    "version": 3
   },
   "file_extension": ".py",
   "mimetype": "text/x-python",
   "name": "python",
   "nbconvert_exporter": "python",
   "pygments_lexer": "ipython3",
   "version": "3.9.7"
  }
 },
 "nbformat": 4,
 "nbformat_minor": 5
}
